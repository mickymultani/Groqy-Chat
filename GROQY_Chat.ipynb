{
  "nbformat": 4,
  "nbformat_minor": 0,
  "metadata": {
    "colab": {
      "provenance": [],
      "gpuType": "T4",
      "authorship_tag": "ABX9TyPYaitjffrD2YamTj5/dzg0",
      "include_colab_link": true
    },
    "kernelspec": {
      "name": "python3",
      "display_name": "Python 3"
    },
    "language_info": {
      "name": "python"
    }
  },
  "cells": [
    {
      "cell_type": "markdown",
      "metadata": {
        "id": "view-in-github",
        "colab_type": "text"
      },
      "source": [
        "<a href=\"https://colab.research.google.com/github/mickymultani/Groqy-Chat/blob/main/GROQY_Chat.ipynb\" target=\"_parent\"><img src=\"https://colab.research.google.com/assets/colab-badge.svg\" alt=\"Open In Colab\"/></a>"
      ]
    },
    {
      "cell_type": "code",
      "execution_count": null,
      "metadata": {
        "id": "ktv5gdP3dPlp"
      },
      "outputs": [],
      "source": [
        "!pip install -q llama-index==0.10.14\n",
        "!pip install llama-index-llms-groq\n",
        "from llama_index.llms.groq import Groq\n",
        "!pip install -q gradio\n",
        "import gradio as gr\n",
        "import markdown\n",
        "import time"
      ]
    },
    {
      "cell_type": "code",
      "source": [
        "llm = Groq(model=\"mixtral-8x7b-32768\", api_key=\"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\")"
      ],
      "metadata": {
        "id": "mvuM976VwaBF"
      },
      "execution_count": 48,
      "outputs": []
    },
    {
      "cell_type": "code",
      "source": [
        "def chat_with_llm(user_input, conversation_html):\n",
        "    start_time = time.time()\n",
        "    llm_response = \"\"\n",
        "    try:\n",
        "        # Send the input to Groq and collect the response\n",
        "        response = llm.stream_complete(user_input)\n",
        "        for r in response:\n",
        "            llm_response += r.delta\n",
        "    except Exception as e:\n",
        "        llm_response = \"Failed to get response from GROQ.\"\n",
        "\n",
        "    # Calculate the response time\n",
        "    response_time = time.time() - start_time\n",
        "\n",
        "    user_msg_html = f'<div style=\"background-color: #fa8cd2; margin: 10px 0; padding: 5px;\"><strong>You:</strong> {user_input}</div>'\n",
        "    llm_msg_html = f'<div style=\"background-color: #82ffea; margin: 10px 0; padding: 5px;\"><strong>GROQY:</strong> {llm_response} <span style=\"font-size: 14px; color: #6004e0;\">(Response time: {response_time:.2f} seconds)</span></div>'\n",
        "    updated_conversation_html = f\"{conversation_html}{user_msg_html}{llm_msg_html}\"\n",
        "\n",
        "    return updated_conversation_html, \"\""
      ],
      "metadata": {
        "id": "-wa7svFd-eEz"
      },
      "execution_count": 58,
      "outputs": []
    },
    {
      "cell_type": "code",
      "source": [
        "# Use Gradio blocks to create a custom layout\n",
        "with gr.Blocks() as app:\n",
        "\n",
        "    gr.HTML(\"<h1 style='text-align: center; color: #6004e0;'>Chat with GROQY!</h1>\")\n",
        "\n",
        "    conversation_html = gr.HTML(value='<div style=\"color: #6004e0; margin-bottom: 20px;\">Powered by Groq LPU</div>')\n",
        "    user_input = gr.Textbox(label=\"Your Question\")\n",
        "    submit_button = gr.Button(\"Ask\")\n",
        "\n",
        "    submit_button.click(\n",
        "        chat_with_llm,\n",
        "        inputs=[user_input, conversation_html],\n",
        "        outputs=[conversation_html, user_input]  # Map outputs back to conversation_html and user_input\n",
        "    )"
      ],
      "metadata": {
        "id": "xsUPALvS-wxY"
      },
      "execution_count": 59,
      "outputs": []
    },
    {
      "cell_type": "code",
      "source": [
        "app.launch()"
      ],
      "metadata": {
        "id": "dawDrBY8_zeG"
      },
      "execution_count": null,
      "outputs": []
    }
  ]
}